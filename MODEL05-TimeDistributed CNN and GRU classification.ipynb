{
  "cells": [
    {
      "metadata": {
        "_uuid": "8f2839f25d086af736a60e9eeb907d3b93b6e0e5",
        "_cell_guid": "b1076dfc-b9ad-4769-8c92-a6c4dae69d19",
        "trusted": true
      },
      "cell_type": "code",
      "source": "# This Python 3 environment comes with many helpful analytics libraries installed\n# It is defined by the kaggle/python docker image: https://github.com/kaggle/docker-python\n# For example, here's several helpful packages to load in \n\nimport numpy as np # linear algebra\nimport pandas as pd # data processing, CSV file I/O (e.g. pd.read_csv)\n\n# Input data files are available in the \"../input/\" directory.\n# For example, running this (by clicking run or pressing Shift+Enter) will list the files in the input directory\n\nimport os\nprint(os.listdir(\"../input\"))\n\n# Any results you write to the current directory are saved as output.",
      "execution_count": 1,
      "outputs": [
        {
          "output_type": "stream",
          "text": "['train', 'test', 'train.csv', 'sample_submission.csv']\n",
          "name": "stdout"
        }
      ]
    },
    {
      "metadata": {
        "_cell_guid": "79c7e3d0-c299-4dcb-8224-4455121ee9b0",
        "_uuid": "d629ff2d2480ee46fbb7e2d37f6b5fab8052498a",
        "trusted": true
      },
      "cell_type": "code",
      "source": "train_idx=pd.read_csv('../input/train.csv')\nHEIGH=512#image.shape[1]\nWIDTH=512#image.shape[2]\nCHANEL=1#image.shape[3]\nprint(train_idx.shape)\nprint(train_idx[0:5])\n#we treat this like unet arquitect and like a mask we replace target to 0 to 27 outputs from 0 to 1 values\nNUM_CLASSES=28\ny_df=[[int(i) for i in s.split()] for s in train_idx['Target']]\n\n\nfrom skimage.transform import resize\nfrom skimage import util \nimg_size_target=512\ndef downsample(img):# not used\n    \n    if img_size_target==512:\n        return img\n    else:\n        return resize(img, (img_size_target, img_size_target), mode='constant', preserve_range=True)\n    \n    \ny_df_final=np.zeros((train_idx.shape[0],NUM_CLASSES)).astype(int)\n\nfor i,x in enumerate(y_df):\n    for val in x:\n        #print(x,val,i)    \n        y_df_final[i,val]=1\nprint(y_df_final[2])   \nprint(y_df_final.shape)",
      "execution_count": 2,
      "outputs": [
        {
          "output_type": "stream",
          "text": "(31072, 2)\n                                     Id   Target\n0  00070df0-bbc3-11e8-b2bc-ac1f6b6435d0     16 0\n1  000a6c98-bb9b-11e8-b2b9-ac1f6b6435d0  7 1 2 0\n2  000a9596-bbc4-11e8-b2bc-ac1f6b6435d0        5\n3  000c99ba-bba4-11e8-b2b9-ac1f6b6435d0        1\n4  001838f8-bbca-11e8-b2bc-ac1f6b6435d0       18\n[0 0 0 0 0 1 0 0 0 0 0 0 0 0 0 0 0 0 0 0 0 0 0 0 0 0 0 0]\n(31072, 28)\n",
          "name": "stdout"
        }
      ]
    },
    {
      "metadata": {
        "trusted": true,
        "_uuid": "76bcdde918d6c3ec1d2606ce4cbf3f974dbf53a6"
      },
      "cell_type": "code",
      "source": "from sklearn.model_selection import train_test_split\n\nX_train, X_test, y_train, y_test = train_test_split(train_idx, y_df_final, test_size=0.08, random_state=42)\nprint(X_train.shape)\nprint(X_test.shape)\nprint(y_train.shape)\nprint(y_test.shape)",
      "execution_count": 3,
      "outputs": [
        {
          "output_type": "stream",
          "text": "(28586, 2)\n(2486, 2)\n(28586, 28)\n(2486, 28)\n",
          "name": "stdout"
        }
      ]
    },
    {
      "metadata": {
        "trusted": true,
        "_uuid": "1e650b55bcee8c110caeb87fe01a5ccac7f61b05"
      },
      "cell_type": "code",
      "source": "\n    #image=np.concatenate((R.reshape(HEIGH,WIDTH,1),G.reshape(HEIGH,WIDTH,1),B.reshape(HEIGH,WIDTH,1)),axis=2)                    \n    #return np.array(image,dtype=\"uint8\")\n\nfrom keras.preprocessing.image import ImageDataGenerator, array_to_img, img_to_array, load_img#,save_img\nimport matplotlib.pyplot as plt\nfrom skimage import util\n\ndef keras_genereatorv1(Xdata_set,ydata_set,batch_size):\n      while True:\n            random_indexes = np.random.choice(len(Xdata_set), batch_size)\n            batch_images = np.empty((batch_size,4, HEIGH, WIDTH, 3))\n            batch_labels = np.empty((batch_size, 28))                        \n            for x in range(batch_size):            \n                for i, idx in enumerate(random_indexes):\n                    path=Xdata_set.values[idx][0]\n                    name=\"../input/train/{}_green.png\".format(path)\n                    G=downsample(np.array(load_img(name))) /255\n                    #print(G.shape)\n                    name=\"../input/train/{}_blue.png\".format(path)\n                    B=downsample(np.array(load_img(name))) /255\n                    name=\"../input/train/{}_red.png\".format(path)\n                    R=downsample(np.array(load_img(name))) /255\n                    name=\"../input/train/{}_yellow.png\".format(path)\n                    Y=downsample(np.array(load_img(name))) / 255\n                    #mask=get_mask(image)\n                    batch_images[i][0] =R.reshape(HEIGH,WIDTH,3)\n                    batch_images[i][1] =G.reshape(HEIGH,WIDTH,3)\n                    batch_images[i][2] =B.reshape(HEIGH,WIDTH,3)\n                    batch_images[i][3] =Y.reshape(HEIGH,WIDTH,3)\n                    batch_labels[i]=ydata_set[idx]\n            yield batch_images,batch_labels#[r1,r2,r3,r4,r5,r6,r7,r8]\n            \nX,Y=next(keras_genereatorv1(X_train,y_train,10))\nprint(X.shape)\nprint(Y.shape)\n    \n            \n    ",
      "execution_count": 9,
      "outputs": [
        {
          "output_type": "stream",
          "text": "(10, 4, 512, 512, 3)\n(10, 28)\n",
          "name": "stdout"
        }
      ]
    },
    {
      "metadata": {
        "trusted": true,
        "_uuid": "0b5a6727b37e05bbe1db10cd796c879007146210"
      },
      "cell_type": "code",
      "source": "import keras\nfrom keras import backend as K\nimport tensorflow as tf\nfrom keras.models import Model\nfrom keras.layers import merge,Input,Dense, concatenate, Conv2D, MaxPooling2D, UpSampling2D, Reshape, core, Dropout,Convolution2D,Activation,Flatten\nfrom keras.optimizers import Adam\nfrom keras.callbacks import ModelCheckpoint, LearningRateScheduler\nfrom keras import backend as K\nfrom keras.utils.vis_utils import plot_model as plot\nfrom keras.optimizers import SGD\n\ndef f1_loss(y_true, y_pred):\n    \n    tp = K.sum(K.cast(y_true*y_pred, 'float'), axis=0)\n    tn = K.sum(K.cast((1-y_true)*(1-y_pred), 'float'), axis=0)\n    fp = K.sum(K.cast((1-y_true)*y_pred, 'float'), axis=0)\n    fn = K.sum(K.cast(y_true*(1-y_pred), 'float'), axis=0)\n\n    p = tp / (tp + fp + K.epsilon())\n    r = tp / (tp + fn + K.epsilon())\n\n    f1 = 2*p*r / (p+r+K.epsilon())\n    f1 = tf.where(tf.is_nan(f1), tf.zeros_like(f1), f1)\n    return 1 - K.mean(f1)\n\ndef bce_f1_loss(y_true, y_pred):    \n    return K.binary_crossentropy(y_true,y_pred)+f1_loss(y_true,y_pred)",
      "execution_count": 16,
      "outputs": []
    },
    {
      "metadata": {
        "trusted": true,
        "_uuid": "98d45060253396d20b3a1763da2389a1beaf093a"
      },
      "cell_type": "code",
      "source": "import keras\nfrom keras.layers import Dense, Dropout, LSTM,GRU\nfrom keras.layers import Conv2D, Flatten,MaxPooling2D,GlobalMaxPooling2D\nfrom keras.models import Sequential\nfrom keras.layers.wrappers import TimeDistributed\nfrom keras.models import Model\nimport numpy as np\n\ninput_shape = (4, 512, 512, 3)\nmodel = Sequential()\nmodel.add(TimeDistributed(Conv2D(256, (3, 3), activation='relu'), input_shape=input_shape))\nmodel.add(TimeDistributed(MaxPooling2D(pool_size=(2, 2))))\nmodel.add(TimeDistributed(Dropout(0.2)))\nmodel.add(TimeDistributed(Conv2D(128, (3, 3), activation='relu')))\nmodel.add(TimeDistributed(MaxPooling2D(pool_size=(2, 2))))\nmodel.add(TimeDistributed(Dropout(0.2)))\nmodel.add(TimeDistributed(Conv2D(64, (3, 3), activation='relu')))\nmodel.add(TimeDistributed(MaxPooling2D(pool_size=(2, 2))))\nmodel.add(TimeDistributed(Dropout(0.2)))\nmodel.add(TimeDistributed(GlobalMaxPooling2D()))\nmodel.add(GRU(300, return_sequences = True))\nmodel.add(Dropout(0.2))\nmodel.add(GRU(150))\nmodel.add(Dropout(0.2))\nmodel.add(Dense(1024))\nmodel.add(Dropout(0.2))\nmodel.add(Dense(1024))\nmodel.add(Dropout(0.2))\nmodel.add(Dense(28,activation=\"sigmoid\"))\noptim=keras.optimizers.Adam(lr=0.00001)\nmodel.compile(optimizer='Adadelta', loss='binary_crossentropy',metrics=[\"acc\",f1_loss,\"binary_crossentropy\"])\n\nmodel.summary()",
      "execution_count": 32,
      "outputs": [
        {
          "output_type": "stream",
          "text": "_________________________________________________________________\nLayer (type)                 Output Shape              Param #   \n=================================================================\ntime_distributed_101 (TimeDi (None, 4, 510, 510, 256)  7168      \n_________________________________________________________________\ntime_distributed_102 (TimeDi (None, 4, 255, 255, 256)  0         \n_________________________________________________________________\ntime_distributed_103 (TimeDi (None, 4, 255, 255, 256)  0         \n_________________________________________________________________\ntime_distributed_104 (TimeDi (None, 4, 253, 253, 128)  295040    \n_________________________________________________________________\ntime_distributed_105 (TimeDi (None, 4, 126, 126, 128)  0         \n_________________________________________________________________\ntime_distributed_106 (TimeDi (None, 4, 126, 126, 128)  0         \n_________________________________________________________________\ntime_distributed_107 (TimeDi (None, 4, 124, 124, 64)   73792     \n_________________________________________________________________\ntime_distributed_108 (TimeDi (None, 4, 62, 62, 64)     0         \n_________________________________________________________________\ntime_distributed_109 (TimeDi (None, 4, 62, 62, 64)     0         \n_________________________________________________________________\ntime_distributed_110 (TimeDi (None, 4, 64)             0         \n_________________________________________________________________\ngru_17 (GRU)                 (None, 4, 300)            328500    \n_________________________________________________________________\ndropout_58 (Dropout)         (None, 4, 300)            0         \n_________________________________________________________________\ngru_18 (GRU)                 (None, 150)               202950    \n_________________________________________________________________\ndropout_59 (Dropout)         (None, 150)               0         \n_________________________________________________________________\ndense_16 (Dense)             (None, 1024)              154624    \n_________________________________________________________________\ndropout_60 (Dropout)         (None, 1024)              0         \n_________________________________________________________________\ndense_17 (Dense)             (None, 1024)              1049600   \n_________________________________________________________________\ndropout_61 (Dropout)         (None, 1024)              0         \n_________________________________________________________________\ndense_18 (Dense)             (None, 28)                28700     \n=================================================================\nTotal params: 2,140,374\nTrainable params: 2,140,374\nNon-trainable params: 0\n_________________________________________________________________\n",
          "name": "stdout"
        }
      ]
    },
    {
      "metadata": {
        "trusted": true,
        "_uuid": "a32e6dbcb337715819c98fa17b7208c826ef5a63",
        "scrolled": false
      },
      "cell_type": "code",
      "source": "model.fit_generator(keras_genereatorv1(X_train,y_train,2),steps_per_epoch=10,epochs=100,\n                    verbose=1,\n                    validation_data=next(keras_genereatorv1(X_test,y_test,10)),\n                    validation_steps=10\n                   )",
      "execution_count": null,
      "outputs": []
    }
  ],
  "metadata": {
    "kernelspec": {
      "display_name": "Python 3",
      "language": "python",
      "name": "python3"
    },
    "language_info": {
      "name": "python",
      "version": "3.6.6",
      "mimetype": "text/x-python",
      "codemirror_mode": {
        "name": "ipython",
        "version": 3
      },
      "pygments_lexer": "ipython3",
      "nbconvert_exporter": "python",
      "file_extension": ".py"
    }
  },
  "nbformat": 4,
  "nbformat_minor": 1
}